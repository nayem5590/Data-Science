{
 "cells": [
  {
   "cell_type": "code",
   "execution_count": null,
   "id": "78b46687",
   "metadata": {},
   "outputs": [],
   "source": [
    "|Date: 5/17/2022"
   ]
  },
  {
   "cell_type": "code",
   "execution_count": 5,
   "id": "7b1a0f41",
   "metadata": {},
   "outputs": [
    {
     "name": "stdout",
     "output_type": "stream",
     "text": [
      "chili\n",
      "onion\n",
      "oi\n",
      "potato\n"
     ]
    }
   ],
   "source": [
    "x=[\"chili\",\"onion\",\"oi\",\"potato\"]\n",
    "for i in x:\n",
    "    print(i)"
   ]
  },
  {
   "cell_type": "code",
   "execution_count": 10,
   "id": "7363f213",
   "metadata": {},
   "outputs": [
    {
     "name": "stdout",
     "output_type": "stream",
     "text": [
      "12000\n",
      "Amount is: 12000\n",
      "Note 1000 & 500:  (24.0, 12.0)\n"
     ]
    }
   ],
   "source": [
    "x=input()\n",
    "x=int(x)\n",
    "print(\"Amount is:\",x)\n",
    "a=500\n",
    "b=1000\n",
    "n=x/a,x/b\n",
    "print(\"Note 1000 & 500: \",n)"
   ]
  },
  {
   "cell_type": "code",
   "execution_count": null,
   "id": "0bfe6877",
   "metadata": {},
   "outputs": [],
   "source": []
  },
  {
   "cell_type": "code",
   "execution_count": 27,
   "id": "b9bfd824",
   "metadata": {},
   "outputs": [
    {
     "name": "stdout",
     "output_type": "stream",
     "text": [
      "Fibonacci sequence:\n",
      "0\n",
      "1\n",
      "1\n",
      "2\n",
      "3\n",
      "5\n",
      "8\n",
      "13\n",
      "21\n",
      "34\n"
     ]
    }
   ],
   "source": [
    "\n",
    "def recur_fibo(n):\n",
    "   if n <= 1:\n",
    "       return n\n",
    "   else:\n",
    "       return(recur_fibo(n-1) + recur_fibo(n-2))\n",
    "\n",
    "nterms = 10\n",
    "\n",
    "# check if the number of terms is valid\n",
    "if nterms <= 0:\n",
    "   print(\"Plese enter a positive integer\")\n",
    "else:\n",
    "   print(\"Fibonacci sequence:\")\n",
    "   for i in range(nterms):\n",
    "       print(recur_fibo(i))"
   ]
  },
  {
   "cell_type": "code",
   "execution_count": 42,
   "id": "a2813381",
   "metadata": {},
   "outputs": [
    {
     "name": "stdout",
     "output_type": "stream",
     "text": [
      "[4]\n"
     ]
    }
   ],
   "source": [
    "x=[1,2,3,4,5,6,8,10,12,11]\n",
    "print([4])"
   ]
  },
  {
   "cell_type": "code",
   "execution_count": 4,
   "id": "7f723874",
   "metadata": {},
   "outputs": [
    {
     "name": "stdout",
     "output_type": "stream",
     "text": [
      "<class 'tuple'>\n",
      "['onion', 'banana', 'potato']\n",
      "onion\n",
      "['banana', 'potato']\n",
      "potato\n",
      "['ginger', 'banana', 'potato']\n"
     ]
    }
   ],
   "source": [
    "a=()\n",
    "print(type(a))\n",
    "a=[\"onion\",\"banana\",\"potato\"]\n",
    "print(a)\n",
    "print(a[0])\n",
    "print(a[1:3])\n",
    "print(a[-1])\n",
    "a[0]=\"ginger\"\n",
    "print(a)"
   ]
  },
  {
   "cell_type": "code",
   "execution_count": 11,
   "id": "dcb96316",
   "metadata": {},
   "outputs": [
    {
     "name": "stdout",
     "output_type": "stream",
     "text": [
      "<class 'dict'>\n",
      "{'Name': 'Max', 'Age': 35, 'Income': 'Fair'}\n",
      "Max\n",
      "35\n",
      "Fair\n"
     ]
    }
   ],
   "source": [
    "a={}\n",
    "print(type(a))\n",
    "a={\n",
    "\"Name\":\"Max\",\n",
    "    \"Age\":35,\n",
    "    \"Income\":\"Fair\"\n",
    "    \n",
    "}\n",
    "\n",
    "print(a)\n",
    "print(a[\"Name\"])\n",
    "print(a[\"Age\"])\n",
    "print(a[\"Income\"])"
   ]
  },
  {
   "cell_type": "code",
   "execution_count": 16,
   "id": "f56c2670-ecc6-4f99-82a8-3ed338dcdddf",
   "metadata": {},
   "outputs": [
    {
     "name": "stdout",
     "output_type": "stream",
     "text": [
      "3\n",
      "4\n"
     ]
    }
   ],
   "source": [
    "a={\n",
    "\"name\":\"ma.X\",\"age\":[36,35,\"mr.Y\",[1,2,3,4]],\"income\":[1,5,(3,4,5)]\n",
    "}\n",
    "print(a[\"age\"][3][2])\n",
    "print(a[\"income\"][2][1])"
   ]
  },
  {
   "cell_type": "code",
   "execution_count": 5,
   "id": "309b723f-45d1-4e2d-bc12-12297fd1c551",
   "metadata": {},
   "outputs": [
    {
     "name": "stdout",
     "output_type": "stream",
     "text": [
      "mean is :14.818181818181818\n",
      "Median is: 6\n"
     ]
    }
   ],
   "source": [
    "x=[2,3,4,8,12,6,4,100,9,5,10]\n",
    "n=len(x)\n",
    "s=sum(x)\n",
    "mean=s/n\n",
    "print(\"mean is :\" + str(mean))\n",
    "\n",
    "if n % 2 == 0:\n",
    "    median1 = x[n//2]\n",
    "    median2 = x[n//2 - 1]\n",
    "    median = (median1 + median2)/2\n",
    "else:\n",
    "    median = x[n//2]\n",
    "print(\"Median is: \" + str(median))\n",
    "\n"
   ]
  },
  {
   "cell_type": "code",
   "execution_count": 8,
   "id": "fc326ddd-6a64-4a73-8b9f-75cdecdfab14",
   "metadata": {},
   "outputs": [
    {
     "name": "stdout",
     "output_type": "stream",
     "text": [
      "Mode is / are: 4\n"
     ]
    }
   ],
   "source": [
    "from collections import Counter\n",
    "  \n",
    "# list of elements to calculate mode\n",
    "x = [2,3,4,8,12,6,4,100,9,5,10]\n",
    "n = len(n_num)\n",
    "  \n",
    "data = Counter(x)\n",
    "get_mode = dict(data)\n",
    "mode = [k for k, v in get_mode.items() if v == max(list(data.values()))]\n",
    "  \n",
    "if len(mode) == n:\n",
    "    get_mode = \"No mode found\"\n",
    "else:\n",
    "    get_mode = \"Mode is / are: \" + ', '.join(map(str, mode))\n",
    "      \n",
    "print(get_mode)"
   ]
  },
  {
   "cell_type": "code",
   "execution_count": 9,
   "id": "046c14bc-1609-4a4e-ad74-1fef11eb8209",
   "metadata": {},
   "outputs": [
    {
     "ename": "NameError",
     "evalue": "name 'np' is not defined",
     "output_type": "error",
     "traceback": [
      "\u001b[1;31m---------------------------------------------------------------------------\u001b[0m",
      "\u001b[1;31mNameError\u001b[0m                                 Traceback (most recent call last)",
      "\u001b[1;32mC:\\PROGRA~1\\KMSpico\\temp/ipykernel_11116/2084710478.py\u001b[0m in \u001b[0;36m<module>\u001b[1;34m\u001b[0m\n\u001b[0;32m      1\u001b[0m \u001b[0mx\u001b[0m\u001b[1;33m=\u001b[0m\u001b[1;33m[\u001b[0m\u001b[1;36m2\u001b[0m\u001b[1;33m,\u001b[0m\u001b[1;36m3\u001b[0m\u001b[1;33m,\u001b[0m\u001b[1;36m4\u001b[0m\u001b[1;33m,\u001b[0m\u001b[1;36m8\u001b[0m\u001b[1;33m,\u001b[0m\u001b[1;36m12\u001b[0m\u001b[1;33m,\u001b[0m\u001b[1;36m6\u001b[0m\u001b[1;33m,\u001b[0m\u001b[1;36m4\u001b[0m\u001b[1;33m,\u001b[0m\u001b[1;36m100\u001b[0m\u001b[1;33m,\u001b[0m\u001b[1;36m9\u001b[0m\u001b[1;33m,\u001b[0m\u001b[1;36m5\u001b[0m\u001b[1;33m,\u001b[0m\u001b[1;36m10\u001b[0m\u001b[1;33m]\u001b[0m\u001b[1;33m\u001b[0m\u001b[1;33m\u001b[0m\u001b[0m\n\u001b[0;32m      2\u001b[0m \u001b[1;31m# First quartile (Q1)\u001b[0m\u001b[1;33m\u001b[0m\u001b[1;33m\u001b[0m\u001b[0m\n\u001b[1;32m----> 3\u001b[1;33m \u001b[0mQ1\u001b[0m \u001b[1;33m=\u001b[0m \u001b[0mnp\u001b[0m\u001b[1;33m.\u001b[0m\u001b[0mmedian\u001b[0m\u001b[1;33m(\u001b[0m\u001b[0mx\u001b[0m\u001b[1;33m[\u001b[0m\u001b[1;33m:\u001b[0m\u001b[1;36m10\u001b[0m\u001b[1;33m]\u001b[0m\u001b[1;33m)\u001b[0m\u001b[1;33m\u001b[0m\u001b[1;33m\u001b[0m\u001b[0m\n\u001b[0m\u001b[0;32m      4\u001b[0m \u001b[1;33m\u001b[0m\u001b[0m\n\u001b[0;32m      5\u001b[0m \u001b[1;31m# Third quartile (Q3)\u001b[0m\u001b[1;33m\u001b[0m\u001b[1;33m\u001b[0m\u001b[0m\n",
      "\u001b[1;31mNameError\u001b[0m: name 'np' is not defined"
     ]
    }
   ],
   "source": [
    "x=[2,3,4,8,12,6,4,100,9,5,10]\n",
    "# First quartile (Q1)\n",
    "Q1 = np.median(x[:10])\n",
    "  \n",
    "# Third quartile (Q3)\n",
    "Q3 = np.median(x[10:])\n",
    "  \n",
    "# Interquartile range (IQR)\n",
    "IQR = Q3 - Q1\n",
    "  \n",
    "print(IQR)"
   ]
  },
  {
   "cell_type": "code",
   "execution_count": 11,
   "id": "ccc34daa-b2ac-4d17-ad93-c485991bc367",
   "metadata": {},
   "outputs": [
    {
     "name": "stdout",
     "output_type": "stream",
     "text": [
      "34.0\n"
     ]
    }
   ],
   "source": [
    "import numpy as np\n",
    "  \n",
    "data = [32, 36, 46, 47, 56, 69, 75, 79, 79, 88, 89, 91, 92, 93, 96, 97, \n",
    "        101, 105, 112, 116]\n",
    "  \n",
    "# First quartile (Q1)\n",
    "Q1 = np.percentile(data, 25, interpolation = 'midpoint')\n",
    "  \n",
    "# Third quartile (Q3)\n",
    "Q3 = np.percentile(data, 75, interpolation = 'midpoint')\n",
    "  \n",
    "# Interquaritle range (IQR)\n",
    "IQR = Q3 - Q1\n",
    "  \n",
    "print(IQR)"
   ]
  },
  {
   "cell_type": "code",
   "execution_count": 17,
   "id": "fa650e07-d821-45ce-84de-2015d18e3322",
   "metadata": {},
   "outputs": [
    {
     "name": "stdout",
     "output_type": "stream",
     "text": [
      "Mode is () and  freq is ()\n"
     ]
    }
   ],
   "source": [
    "\n",
    "maxcount=0\n",
    "value=0\n",
    "for item in x:\n",
    "    count=x.count(item)\n",
    "if count>maxcount:\n",
    "    maxcount=count\n",
    "    value=item\n",
    "print(\"Mode is () and  freq is ()\".format(value,maxcount))    \n",
    "    "
   ]
  },
  {
   "cell_type": "code",
   "execution_count": 20,
   "id": "56da66c5-e6c7-4e13-82e7-9a1a905b114f",
   "metadata": {},
   "outputs": [
    {
     "ename": "SyntaxError",
     "evalue": "invalid syntax (temp/ipykernel_11116/2501177484.py, line 7)",
     "output_type": "error",
     "traceback": [
      "\u001b[1;36m  File \u001b[1;32m\"C:\\PROGRA~1\\KMSpico\\temp/ipykernel_11116/2501177484.py\"\u001b[1;36m, line \u001b[1;32m7\u001b[0m\n\u001b[1;33m    else:\u001b[0m\n\u001b[1;37m    ^\u001b[0m\n\u001b[1;31mSyntaxError\u001b[0m\u001b[1;31m:\u001b[0m invalid syntax\n"
     ]
    }
   ],
   "source": [
    "import math\n",
    "x = [2,3,4,8,12,6,4,100,9,5,10]\n",
    "n=len(x)\n",
    "if n%2==0:\n",
    "    median=(x[int(n/2)-1]+x[int(n/2)+1-1])/2\n",
    "    print(median)\n",
    "    else:\n",
    "        median=x[math.cell(n/2)-1]\n",
    "        print(median)"
   ]
  },
  {
   "cell_type": "code",
   "execution_count": 2,
   "id": "06a946ec-bd8e-462c-8433-24ea6fcb8f9d",
   "metadata": {},
   "outputs": [],
   "source": [
    "def myfunc():\n",
    "    print(\"hellow world\")\n",
    "    myfunc()"
   ]
  },
  {
   "cell_type": "code",
   "execution_count": 26,
   "id": "0f8f2b85-c520-420c-8493-54b9573a5aca",
   "metadata": {},
   "outputs": [
    {
     "name": "stdout",
     "output_type": "stream",
     "text": [
      "sum 30\n",
      "div -10\n",
      "sum 35\n",
      "div 5\n",
      "h w\n",
      "80\n"
     ]
    }
   ],
   "source": [
    "def myfunc(a,b):\n",
    "    print(\"sum\",a+b)\n",
    "    print(\"div\",a-b)\n",
    "\n",
    "myfunc(10,20)\n",
    "myfunc(20,15)\n",
    "def tarfunc(x,y):\n",
    "    print(\"h\",\"w\")\n",
    "\n",
    "tarfunc(12,123) \n",
    "\n",
    "######\n",
    "def sfunc(a,b,c):\n",
    "    sum=a+b+c\n",
    "    print(sum)\n",
    "sfunc(10,40,30)\n",
    "    ############"
   ]
  },
  {
   "cell_type": "code",
   "execution_count": 33,
   "id": "b1a27c44-6aa8-4cd3-9ddb-a69b4adff646",
   "metadata": {},
   "outputs": [
    {
     "name": "stdout",
     "output_type": "stream",
     "text": [
      "10\n",
      "30\n",
      "60\n",
      "100\n"
     ]
    }
   ],
   "source": [
    "def myfunc(*value):\n",
    "    sum=0\n",
    "    for item in value:\n",
    "        sum +=item\n",
    "        print(sum)\n",
    "myfunc(10,20,30,40)"
   ]
  },
  {
   "cell_type": "code",
   "execution_count": 36,
   "id": "1d9a55bb-8b02-45f5-b0a8-009847a74cdb",
   "metadata": {},
   "outputs": [
    {
     "name": "stdout",
     "output_type": "stream",
     "text": [
      "test1: 10\n",
      "test2: 3\n"
     ]
    }
   ],
   "source": [
    "def myfunc(test1,test2):\n",
    "    print(\"test1:\",test1)\n",
    "    print(\"test2:\",test2)\n",
    "myfunc(test2=3,test1=10)"
   ]
  },
  {
   "cell_type": "code",
   "execution_count": 37,
   "id": "e5a8d93a-fca7-4b26-a6b1-62b61af6dc98",
   "metadata": {},
   "outputs": [
    {
     "name": "stdout",
     "output_type": "stream",
     "text": [
      "10\n",
      "3\n"
     ]
    }
   ],
   "source": [
    "def myfunc(**value):\n",
    "    print(value[\"test1\"])\n",
    "    print(value[\"test2\"])\n",
    "myfunc(test2=3,test1=10)"
   ]
  },
  {
   "cell_type": "code",
   "execution_count": 38,
   "id": "38ef512c-54c4-4caf-8f84-db5d31591157",
   "metadata": {},
   "outputs": [
    {
     "name": "stdout",
     "output_type": "stream",
     "text": [
      "30\n",
      "110\n"
     ]
    }
   ],
   "source": [
    "def myfunc(a,b=10):\n",
    "    print(a+b)\n",
    "myfunc(10,20)\n",
    "myfunc(100)"
   ]
  },
  {
   "cell_type": "code",
   "execution_count": 50,
   "id": "a0bf53e4-7547-4c7a-80c6-05c4e385b10a",
   "metadata": {},
   "outputs": [
    {
     "name": "stdout",
     "output_type": "stream",
     "text": [
      "12\n"
     ]
    }
   ],
   "source": [
    "def myfunc(a,b):\n",
    "    sum=a+b\n",
    "    return sum\n",
    "sum= myfunc(10,2)\n",
    "print(sum)"
   ]
  },
  {
   "cell_type": "code",
   "execution_count": 80,
   "id": "8d32aae9-a5d1-46eb-aa04-0f5eb8622e28",
   "metadata": {},
   "outputs": [
    {
     "name": "stdout",
     "output_type": "stream",
     "text": [
      "[2, 3, 5, 7, 11, 13, 17, 19, 23, 29, 31, 37, 41, 43, 47, 53, 59, 61, 67, 71, 73, 79, 83, 89, 97]\n"
     ]
    }
   ],
   "source": [
    "low, high = 1, 100\n",
    "primes = []\n",
    "\n",
    "for i in range(low, high + 1):\n",
    "    flag = 0\n",
    "\n",
    "    if i < 2:\n",
    "        continue\n",
    "    if i == 2:\n",
    "        primes.append(2)\n",
    "        continue\n",
    "\n",
    "    for x in range(2, i):\n",
    "        if i % x == 0:\n",
    "            flag = 1\n",
    "            break\n",
    "\n",
    "    if flag == 0:\n",
    "        primes.append(i)\n",
    "        \n",
    "print(primes)"
   ]
  },
  {
   "cell_type": "code",
   "execution_count": 81,
   "id": "3a3e88ce-faa4-40c7-8d0f-15ab2cb59c87",
   "metadata": {},
   "outputs": [
    {
     "name": "stdin",
     "output_type": "stream",
     "text": [
      "lower bound:  1\n",
      "upper bound:  100\n"
     ]
    },
    {
     "name": "stdout",
     "output_type": "stream",
     "text": [
      "prime no btwn 1 and 100 are: \n",
      "[2, 3, 5, 7, 11, 13, 17, 19, 23, 29, 31, 37, 41, 43, 47, 53, 59, 61, 67, 71, 73, 79, 83, 89, 97, 2, 3, 5, 7, 11, 13, 17, 19, 23, 29, 31, 37, 41, 43, 47, 53, 59, 61, 67, 71, 73, 79, 83, 89, 97]\n"
     ]
    }
   ],
   "source": [
    "s= int(input(\"lower bound: \"))\n",
    "st= int(input(\"upper bound: \"))\n",
    "print(\"prime no btwn\",s,\"and\",st,\"are: \")\n",
    "\n",
    "for i in range(low, high + 1):\n",
    "    flag = 0\n",
    "\n",
    "    if i < 2:\n",
    "        continue\n",
    "    if i == 2:\n",
    "        primes.append(2)\n",
    "        continue\n",
    "\n",
    "    for x in range(2, i):\n",
    "        if i % x == 0:\n",
    "            flag = 1\n",
    "            break\n",
    "\n",
    "    if flag == 0:\n",
    "        primes.append(i)\n",
    "        \n",
    "print(primes)"
   ]
  },
  {
   "cell_type": "code",
   "execution_count": 1,
   "id": "3fcdb368-dd2b-42d0-a645-ded9525b5e74",
   "metadata": {},
   "outputs": [
    {
     "data": {
      "text/plain": [
       "1    72\n",
       "2    36\n",
       "dtype: int64"
      ]
     },
     "execution_count": 1,
     "metadata": {},
     "output_type": "execute_result"
    }
   ],
   "source": [
    "import pandas as pd\n",
    "data=pd.Series([10,72,36,84,5])\n",
    "data.index\n",
    "data[1:3]"
   ]
  },
  {
   "cell_type": "code",
   "execution_count": 11,
   "id": "d9d345bf-331c-40e4-ad36-cd1e126d5ee8",
   "metadata": {},
   "outputs": [
    {
     "name": "stdout",
     "output_type": "stream",
     "text": [
      "day1    [20, 30, 40]\n",
      "day2    [30, 50, 70]\n",
      "dtype: object\n"
     ]
    }
   ],
   "source": [
    "import pandas as pd\n",
    "user_dict={'day1':[20,30,40],'day2':[30,50,70]}\n",
    "data=pd.Series(user_dict)\n",
    "print(data)"
   ]
  },
  {
   "cell_type": "code",
   "execution_count": 50,
   "id": "9770a095-0d66-47f5-8fcc-752c1438afaa",
   "metadata": {},
   "outputs": [
    {
     "name": "stdout",
     "output_type": "stream",
     "text": [
      "program 3 : 20\n",
      "program 4 : 0    20\n",
      "1    30\n",
      "2    40\n",
      "Name: day1, dtype: int64\n"
     ]
    }
   ],
   "source": [
    "dict={'day1':[20,30,40],\n",
    "     'day2':[40,50,70],\n",
    "     'day3':[40,50,80]}\n",
    "data=pd.DataFrame(dict)\n",
    "#data2=pd.Series(dict)\n",
    "#print(\"program 1 :\",data)\n",
    "#print(\"program 1 :\",data2)\n",
    "print(\"program 3 :\",data.loc[0].loc['day1'])\n",
    "print(\"program 4 :\",data['day1'])"
   ]
  },
  {
   "cell_type": "code",
   "execution_count": 74,
   "id": "2733dfde-415e-4211-8502-9ce101a59f07",
   "metadata": {},
   "outputs": [],
   "source": [
    "import pandas as pd\n",
    "data=pd.read_csv('iris.csv')\n",
    "#print(data.info(10))\n",
    "#print(data.tail(10))\n",
    "#print(data.head(10))\n",
    "#print(data.to_string())\n",
    "(data.to_json(r'iris.json'))\n"
   ]
  },
  {
   "cell_type": "code",
   "execution_count": 91,
   "id": "410b3362-a264-4350-9708-3db11e2cfe5d",
   "metadata": {},
   "outputs": [
    {
     "name": "stdout",
     "output_type": "stream",
     "text": [
      "4    5.0\n",
      "5    5.4\n",
      "6    4.6\n",
      "7    5.0\n",
      "8    4.4\n",
      "9    4.9\n",
      "Name: sepal.length, dtype: float64\n",
      "5.0\n"
     ]
    }
   ],
   "source": [
    "import pandas as pd\n",
    "data=pd.read_json('iris.json')\n",
    "#print(data.head())\n",
    "print(data['sepal.length'][4:10])\n",
    "print(data.loc[4].loc['sepal.length'])"
   ]
  },
  {
   "cell_type": "code",
   "execution_count": 135,
   "id": "fc986670-bcce-48a9-b90e-4afca3df772b",
   "metadata": {},
   "outputs": [
    {
     "name": "stdout",
     "output_type": "stream",
     "text": [
      "    Duration       Date  Pulse  Maxpulse  Calories\n",
      "0         60 2020-12-01    110       130     409.1\n",
      "1         60 2020-12-02    117       145     479.0\n",
      "2         60 2020-12-03    103       135     340.0\n",
      "3         45 2020-12-04    109       175     282.4\n",
      "4         45 2020-12-05    117       148     406.0\n",
      "5         60 2020-12-06    102       127     300.0\n",
      "6         60 2020-12-07    110       136     374.0\n",
      "7        450 2020-12-08    104       134     253.3\n",
      "8         30 2020-12-09    109       133     195.1\n",
      "9         60 2020-12-10     98       124     269.0\n",
      "10        60 2020-12-11    103       147     329.3\n",
      "11        60 2020-12-12    100       120     250.7\n",
      "12        60 2020-12-12    100       120     250.7\n",
      "13        60 2020-12-13    106       128     345.3\n",
      "14        60 2020-12-14    104       132     379.3\n",
      "15        60 2020-12-15     98       123     275.0\n",
      "16        60 2020-12-16     98       120     215.2\n",
      "17        60 2020-12-17    100       120     300.0\n",
      "18        45 2020-12-18     90       112       NaN\n",
      "19        60 2020-12-19    103       123     323.0\n",
      "20        45 2020-12-20     97       125     243.0\n",
      "21        60 2020-12-21    108       131     364.2\n",
      "22        45        NaT    100       119     282.0\n",
      "23        60 2020-12-23    130       101     300.0\n",
      "24        45 2020-12-24    105       132     246.0\n",
      "25        60 2020-12-25    102       126     334.5\n",
      "26        60 2020-12-26    100       120     250.0\n",
      "27        60 2020-12-27     92       118     241.0\n",
      "28        60 2020-12-28    103       132       NaN\n",
      "29        60 2020-12-29    100       132     280.0\n",
      "30        60 2020-12-30    102       129     380.3\n",
      "31        60 2020-12-31     92       115     243.0\n"
     ]
    }
   ],
   "source": [
    "import pandas as pd\n",
    "data=pd.read_csv('cleaning.csv')\n",
    "#print(data.info())\n",
    "#print(data.head())\n",
    "#print(data.tail())\n",
    "#print(data.to_string())\n",
    "(data.dropna())\n",
    "#print(data.info())\n",
    "#print(data.Duration.mean())\n",
    "#print(data.Pulse.mean())\n",
    "#print(data.Maxpulse.mean())\n",
    "#print(data.Calories.mean())\n",
    "#print(data.Date)\n",
    "\n",
    "data['Date']=(pd.to_datetime(data['Date']))\n",
    "print(data)"
   ]
  },
  {
   "cell_type": "code",
   "execution_count": 10,
   "id": "62e1171d-9627-4b3d-b965-f22c879f288a",
   "metadata": {},
   "outputs": [],
   "source": [
    "import pandas as pd\n",
    "import numpy as np\n",
    "from sklearn import linear_model\n",
    "import matplotlib.pyplot as plt\n",
    "df= pd.read_csv('homeprices.csv')\n",
    "#print(data.info())\n"
   ]
  },
  {
   "cell_type": "code",
   "execution_count": 11,
   "id": "195efae1-588a-472d-930e-5308db1f7fcd",
   "metadata": {},
   "outputs": [
    {
     "data": {
      "text/html": [
       "<div>\n",
       "<style scoped>\n",
       "    .dataframe tbody tr th:only-of-type {\n",
       "        vertical-align: middle;\n",
       "    }\n",
       "\n",
       "    .dataframe tbody tr th {\n",
       "        vertical-align: top;\n",
       "    }\n",
       "\n",
       "    .dataframe thead th {\n",
       "        text-align: right;\n",
       "    }\n",
       "</style>\n",
       "<table border=\"1\" class=\"dataframe\">\n",
       "  <thead>\n",
       "    <tr style=\"text-align: right;\">\n",
       "      <th></th>\n",
       "      <th>area</th>\n",
       "      <th>price</th>\n",
       "    </tr>\n",
       "  </thead>\n",
       "  <tbody>\n",
       "    <tr>\n",
       "      <th>0</th>\n",
       "      <td>2600</td>\n",
       "      <td>550000</td>\n",
       "    </tr>\n",
       "    <tr>\n",
       "      <th>1</th>\n",
       "      <td>3000</td>\n",
       "      <td>565000</td>\n",
       "    </tr>\n",
       "    <tr>\n",
       "      <th>2</th>\n",
       "      <td>3200</td>\n",
       "      <td>610000</td>\n",
       "    </tr>\n",
       "    <tr>\n",
       "      <th>3</th>\n",
       "      <td>3600</td>\n",
       "      <td>680000</td>\n",
       "    </tr>\n",
       "    <tr>\n",
       "      <th>4</th>\n",
       "      <td>4000</td>\n",
       "      <td>725000</td>\n",
       "    </tr>\n",
       "  </tbody>\n",
       "</table>\n",
       "</div>"
      ],
      "text/plain": [
       "   area   price\n",
       "0  2600  550000\n",
       "1  3000  565000\n",
       "2  3200  610000\n",
       "3  3600  680000\n",
       "4  4000  725000"
      ]
     },
     "execution_count": 11,
     "metadata": {},
     "output_type": "execute_result"
    }
   ],
   "source": [
    "df"
   ]
  },
  {
   "cell_type": "code",
   "execution_count": 12,
   "id": "076beba2-59de-4ceb-b735-3694de155907",
   "metadata": {},
   "outputs": [],
   "source": [
    "price=df.price"
   ]
  },
  {
   "cell_type": "code",
   "execution_count": 20,
   "id": "58dec65f-ef7a-43dc-879a-522b9ad13236",
   "metadata": {},
   "outputs": [
    {
     "data": {
      "text/plain": [
       "<matplotlib.collections.PathCollection at 0x173fd528f40>"
      ]
     },
     "execution_count": 20,
     "metadata": {},
     "output_type": "execute_result"
    },
    {
     "data": {
      "image/png": "[encoded data removed]",
      "text/plain": [
       "<Figure size 432x288 with 1 Axes>"
      ]
     },
     "metadata": {
      "needs_background": "light"
     },
     "output_type": "display_data"
    }
   ],
   "source": [
    "%matplotlib inline\n",
    "plt.xlabel('area')\n",
    "plt.ylabel('price')\n",
    "plt.scatter(df.area,df.price,color='blue',marker='+')"
   ]
  },
  {
   "cell_type": "code",
   "execution_count": 24,
   "id": "09cbae9e-1156-45cb-889e-45c14a761a3b",
   "metadata": {},
   "outputs": [
    {
     "data": {
      "text/html": [
       "<div>\n",
       "<style scoped>\n",
       "    .dataframe tbody tr th:only-of-type {\n",
       "        vertical-align: middle;\n",
       "    }\n",
       "\n",
       "    .dataframe tbody tr th {\n",
       "        vertical-align: top;\n",
       "    }\n",
       "\n",
       "    .dataframe thead th {\n",
       "        text-align: right;\n",
       "    }\n",
       "</style>\n",
       "<table border=\"1\" class=\"dataframe\">\n",
       "  <thead>\n",
       "    <tr style=\"text-align: right;\">\n",
       "      <th></th>\n",
       "      <th>area</th>\n",
       "    </tr>\n",
       "  </thead>\n",
       "  <tbody>\n",
       "    <tr>\n",
       "      <th>0</th>\n",
       "      <td>2600</td>\n",
       "    </tr>\n",
       "    <tr>\n",
       "      <th>1</th>\n",
       "      <td>3000</td>\n",
       "    </tr>\n",
       "    <tr>\n",
       "      <th>2</th>\n",
       "      <td>3200</td>\n",
       "    </tr>\n",
       "    <tr>\n",
       "      <th>3</th>\n",
       "      <td>3600</td>\n",
       "    </tr>\n",
       "    <tr>\n",
       "      <th>4</th>\n",
       "      <td>4000</td>\n",
       "    </tr>\n",
       "  </tbody>\n",
       "</table>\n",
       "</div>"
      ],
      "text/plain": [
       "   area\n",
       "0  2600\n",
       "1  3000\n",
       "2  3200\n",
       "3  3600\n",
       "4  4000"
      ]
     },
     "execution_count": 24,
     "metadata": {},
     "output_type": "execute_result"
    }
   ],
   "source": [
    "new_df= df.drop('price',axis='columns')\n",
    "new_df"
   ]
  },
  {
   "cell_type": "code",
   "execution_count": 25,
   "id": "1d5d0ce1-be73-4810-b23d-e4de03fdc374",
   "metadata": {},
   "outputs": [
    {
     "data": {
      "text/plain": [
       "0    550000\n",
       "1    565000\n",
       "2    610000\n",
       "3    680000\n",
       "4    725000\n",
       "Name: price, dtype: int64"
      ]
     },
     "execution_count": 25,
     "metadata": {},
     "output_type": "execute_result"
    }
   ],
   "source": [
    "price=df.price\n",
    "price"
   ]
  },
  {
   "cell_type": "code",
   "execution_count": 28,
   "id": "f44abe7a-bf9f-4070-b446-4a2f2fd1f740",
   "metadata": {},
   "outputs": [
    {
     "data": {
      "text/plain": [
       "LinearRegression()"
      ]
     },
     "execution_count": 28,
     "metadata": {},
     "output_type": "execute_result"
    }
   ],
   "source": [
    "reg= linear_model.LinearRegression()\n",
    "reg.fit(new_df,price)"
   ]
  },
  {
   "cell_type": "code",
   "execution_count": 35,
   "id": "75d2023f-1f62-45ea-a466-8fa08c7353d6",
   "metadata": {},
   "outputs": [
    {
     "data": {
      "text/plain": [
       "array([859554.79452055])"
      ]
     },
     "execution_count": 35,
     "metadata": {},
     "output_type": "execute_result"
    }
   ],
   "source": [
    "reg.predict([[5000]])"
   ]
  },
  {
   "cell_type": "code",
   "execution_count": 30,
   "id": "81c60177-694a-4a88-8312-ba12c133c680",
   "metadata": {},
   "outputs": [
    {
     "data": {
      "text/plain": [
       "array([135.78767123])"
      ]
     },
     "execution_count": 30,
     "metadata": {},
     "output_type": "execute_result"
    }
   ],
   "source": [
    "reg.coef_"
   ]
  },
  {
   "cell_type": "code",
   "execution_count": 31,
   "id": "d00e586c-df90-41e5-b4cb-3a8a83b8d4fe",
   "metadata": {},
   "outputs": [
    {
     "data": {
      "text/plain": [
       "180616.43835616432"
      ]
     },
     "execution_count": 31,
     "metadata": {},
     "output_type": "execute_result"
    }
   ],
   "source": [
    "reg.intercept_"
   ]
  },
  {
   "cell_type": "code",
   "execution_count": 41,
   "id": "c0d1f243-2609-490d-a9d3-35a992b1b9c8",
   "metadata": {},
   "outputs": [
    {
     "name": "stdin",
     "output_type": "stream",
     "text": [
      " 5000\n"
     ]
    },
    {
     "name": "stdout",
     "output_type": "stream",
     "text": [
      "1538504.795\n"
     ]
    }
   ],
   "source": [
    "X=input()\n",
    "X=int(X)\n",
    "m=135.79\n",
    "C=859554.795\n",
    "Y= m*X+C\n",
    "print(Y)"
   ]
  },
  {
   "cell_type": "code",
   "execution_count": null,
   "id": "0d3f1408-b49a-49cc-aa54-171c91411273",
   "metadata": {},
   "outputs": [],
   "source": []
  }
 ],
 "metadata": {
  "kernelspec": {
   "display_name": "Python 3 (ipykernel)",
   "language": "python",
   "name": "python3"
  },
  "language_info": {
   "codemirror_mode": {
    "name": "ipython",
    "version": 3
   },
   "file_extension": ".py",
   "mimetype": "text/x-python",
   "name": "python",
   "nbconvert_exporter": "python",
   "pygments_lexer": "ipython3",
   "version": "3.9.7"
  }
 },
 "nbformat": 4,
 "nbformat_minor": 5
}
